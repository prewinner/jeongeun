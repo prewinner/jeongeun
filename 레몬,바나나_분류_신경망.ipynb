{
  "nbformat": 4,
  "nbformat_minor": 0,
  "metadata": {
    "colab": {
      "name": "레몬,바나나_분류_신경망.ipynb",
      "provenance": [],
      "collapsed_sections": [],
      "machine_shape": "hm"
    },
    "kernelspec": {
      "name": "python3",
      "display_name": "Python 3"
    },
    "language_info": {
      "name": "python"
    },
    "accelerator": "GPU"
  },
  "cells": [
    {
      "cell_type": "code",
      "metadata": {
        "colab": {
          "base_uri": "https://localhost:8080/"
        },
        "id": "BBMLOwfS1AHv",
        "outputId": "34401894-598e-4988-a640-1c2fd8a34640"
      },
      "source": [
        "from google.colab import drive\n",
        "drive.mount('/content/drive')"
      ],
      "execution_count": null,
      "outputs": [
        {
          "output_type": "stream",
          "name": "stdout",
          "text": [
            "Mounted at /content/drive\n"
          ]
        }
      ]
    },
    {
      "cell_type": "code",
      "metadata": {
        "id": "M0zl5Omu1Y8x"
      },
      "source": [
        "!unzip -qq /content/drive/MyDrive/fruit/test.zip  -d /content/drive/MyDrive/fruit/test"
      ],
      "execution_count": null,
      "outputs": []
    },
    {
      "cell_type": "code",
      "metadata": {
        "id": "x52FiGF71Y_y"
      },
      "source": [
        "!unzip -qq /content/drive/MyDrive/fruit/train.zip -d /content/drive/MyDrive/fruit/train/"
      ],
      "execution_count": null,
      "outputs": []
    },
    {
      "cell_type": "code",
      "metadata": {
        "id": "od4705Wg1ZCh"
      },
      "source": [
        "path=\"/content/drive/MyDrive/fruit/train_label.csv\"\n",
        "\n",
        "file = open( path, 'w')\n",
        "\n",
        "for  i in  range(1, 501):\n",
        "    file.write( str(1) + '\\n') # 레몬\n",
        "for i  in  range(501, 1201):                       \n",
        "    file.write( str(0) + '\\n') # 바나나\n",
        "\n",
        "file.close()"
      ],
      "execution_count": null,
      "outputs": []
    },
    {
      "cell_type": "code",
      "metadata": {
        "id": "zVyuLMeI8mTv"
      },
      "source": [
        "path=\"/content/drive/MyDrive/fruit/test_label.csv\"\n",
        "\n",
        "file = open( path, 'w')\n",
        "\n",
        "for  i in  range(1, 51):\n",
        "    file.write( str(1) + '\\n') # 레몬\n",
        "for i  in  range(51, 101):                       \n",
        "    file.write( str(0) + '\\n') # 바나나\n",
        "\n",
        "file.close()"
      ],
      "execution_count": null,
      "outputs": []
    },
    {
      "cell_type": "code",
      "metadata": {
        "id": "yhdBrZwd8mXW"
      },
      "source": [
        "import os\n",
        "import re\n",
        "import cv2\n",
        "import numpy as np\n",
        "\n",
        "def image_load(path):\n",
        "    file_list = os.listdir(path)\n",
        "    file_name=[]\n",
        "\n",
        "    for  i  in  file_list:\n",
        "        a = int( re.sub('[^0-9]','', i) )   # i 가 숫자가 아니면 null 로 변경해라 ~\n",
        "        file_name.append(a)\n",
        "    file_name.sort() # 정렬작업 \n",
        "    \n",
        "    file_res=[]\n",
        "    for  j  in  file_name:\n",
        "        file_res.append('%s/%d.jpg' %(path,j) )\n",
        "        \n",
        "    image=[]\n",
        "    for  k  in  file_res:\n",
        "        img = cv2.imread(k)\n",
        "        image.append(img)\n",
        "    \n",
        "    return  np.array(image)"
      ],
      "execution_count": null,
      "outputs": []
    },
    {
      "cell_type": "code",
      "metadata": {
        "id": "TFu6TTCj9H9t"
      },
      "source": [
        "import csv\n",
        "\n",
        "def  label_load(path):\n",
        "    file = open(path)\n",
        "    labeldata = csv.reader(file)\n",
        "    labellist = []\n",
        "    for  i  in  labeldata:\n",
        "        labellist.append(int(i[0]))\n",
        "\n",
        "    return   np.array(labellist)"
      ],
      "execution_count": null,
      "outputs": []
    },
    {
      "cell_type": "code",
      "metadata": {
        "id": "qPPJxHrSr1lb"
      },
      "source": [
        "import  cv2\n",
        "import  os \n",
        "import  numpy  as np\n",
        "\n",
        "path = \"/content/drive/MyDrive/fruit/train/\"\n",
        "file_list = os.listdir(path)   # 파일이름 불러오는 부분 \n",
        "\n",
        "for k in file_list:     # 리스트안에 있는 파일들을 하나씩 빼내는 코드 \n",
        "    img = cv2.imread(path + '/' + k) # 사진을 숫자행렬로 변경합니다. \n",
        "                                                   # (165, 201, 3)     \n",
        "    width, height = img.shape[:2]  # 사진 숫자 행렬에서 가로,세로 가져온다.\n",
        "    resize_img = cv2.resize(img, (32 , 32), interpolation=cv2.INTER_CUBIC)\n",
        "    cv2.imwrite('/content/drive/MyDrive/fruit/train_resize/' + k, resize_img)   # resize 한 이미지를 저장합니 \n",
        "  "
      ],
      "execution_count": null,
      "outputs": []
    },
    {
      "cell_type": "code",
      "metadata": {
        "id": "bNyuX_mvuy4f"
      },
      "source": [
        "# 폴더 삭제 명령어\n",
        "import shutil\n",
        "shutil.rmtree('/content/drive/MyDrive/furit/')"
      ],
      "execution_count": null,
      "outputs": []
    },
    {
      "cell_type": "code",
      "metadata": {
        "id": "zwOkcnFmsBm-"
      },
      "source": [
        "import  cv2\n",
        "import  os \n",
        "import  numpy  as np\n",
        "\n",
        "path = \"/content/drive/MyDrive/fruit/test/\"\n",
        "file_list = os.listdir(path)   # 파일이름 불러오는 부분 \n",
        "\n",
        "for k in file_list:     # 리스트안에 있는 파일들을 하나씩 빼내는 코드 \n",
        "    img = cv2.imread(path + '/' + k) # 사진을 숫자행렬로 변경합니다. \n",
        "                                                   # (165, 201, 3)     \n",
        "    width, height = img.shape[:2]  # 사진 숫자 행렬에서 가로,세로 가져온다.\n",
        "    resize_img = cv2.resize(img, (32 , 32), interpolation=cv2.INTER_CUBIC)\n",
        "    cv2.imwrite('/content/drive/MyDrive/fruit/test_resize/' + k, resize_img)   # resize 한 이미지를 저장합니 \n",
        "    "
      ],
      "execution_count": null,
      "outputs": []
    },
    {
      "cell_type": "code",
      "metadata": {
        "colab": {
          "base_uri": "https://localhost:8080/"
        },
        "id": "17D927L9Lo4S",
        "outputId": "154e80c9-ba31-42cb-9b8d-278dc081622a"
      },
      "source": [
        "# 1. 의자와 테이블 데이터를 불러옵니다.\n",
        "\n",
        "# 이미지 데이터와 라벨위치 \n",
        "train_image = '/content/drive/MyDrive/fruit/train_resize/'\n",
        "test_image = '/content/drive/MyDrive/fruit/test_resize/'\n",
        "train_label = '/content/drive/MyDrive/fruit/train_label.csv'\n",
        "test_label = '/content/drive/MyDrive/fruit/test_label.csv'\n",
        "\n",
        "# 데이터 로드 \n",
        "x_train = image_load(train_image)\n",
        "y_train = label_load(train_label)\n",
        "x_test = image_load(test_image)\n",
        "y_test = label_load(test_label)     \n",
        "\n",
        "print(x_train.shape) # (1200, 32, 32, 3)\n",
        "print(x_test.shape) # (100, 32, 32, 3)\n",
        "print(y_train.shape) # (1200,)\n",
        "print(y_test.shape) # (100,)"
      ],
      "execution_count": null,
      "outputs": [
        {
          "output_type": "stream",
          "name": "stdout",
          "text": [
            "(1200, 32, 32, 3)\n",
            "(100, 32, 32, 3)\n",
            "(1200,)\n",
            "(100,)\n"
          ]
        }
      ]
    },
    {
      "cell_type": "code",
      "metadata": {
        "colab": {
          "base_uri": "https://localhost:8080/"
        },
        "id": "RDWo6K0EJxd6",
        "outputId": "7218a440-b427-4d16-dee0-8748d4f112e6"
      },
      "source": [
        "# 드롭아웃 적용하기\n",
        "\n",
        "# 1. 필요한 패키지 가져오는 코드 \n",
        "\n",
        "import tensorflow as tf   # 텐써 플로우 2.0 \n",
        "from tensorflow.keras.datasets.mnist import load_data  # 텐써플로우에 내장되어있는 \n",
        "                                                                         # mnist 데이터를 가져온다.\n",
        "from tensorflow.keras.models import Sequential  # 모델을 구성하기 위한 모듈\n",
        "from tensorflow.keras.layers import Dense, BatchNormalization, Dropout, Conv2D, MaxPooling2D ,Flatten# 완전 연결계층을 구성하기 위한 모듈\n",
        "from tensorflow.keras.utils import to_categorical # one encoding 하는 모듈\n",
        "\n",
        "tf.random.set_seed(777)\n",
        "\n",
        "    \n",
        "# 2. 정규화 진행  \n",
        "x_train = x_train.reshape(-1, 32, 32, 3) / 255  # 4차원으로 변경합니다. \n",
        "x_test = x_test.reshape(-1, 32,32, 3) / 255\n",
        "\n",
        "# 3. 정답 데이터를 준비한다. \n",
        "# 하나의 숫자를 one hot encoding 한다. (예:  4 ---> 0 0 0 0 1 0 0 0 0 0 ) \n",
        "y_train = to_categorical(y_train)  # 훈련 데이터의 라벨(정답)을 원핫 인코딩\n",
        "y_test = to_categorical(y_test)    # 테스트 데이터의 라벨(정답)을 원핫 인코딩 \n",
        "\n",
        "print(x_train.shape)\n",
        "print(x_test.shape)\n",
        "print(y_train.shape)\n",
        "print(y_test.shape)\n"
      ],
      "execution_count": null,
      "outputs": [
        {
          "output_type": "stream",
          "name": "stdout",
          "text": [
            "(1200, 32, 32, 3)\n",
            "(100, 32, 32, 3)\n",
            "(1200, 2)\n",
            "(100, 2)\n"
          ]
        }
      ]
    },
    {
      "cell_type": "code",
      "metadata": {
        "id": "-DsAzS0Tqr9G",
        "colab": {
          "base_uri": "https://localhost:8080/",
          "height": 1000
        },
        "outputId": "15fa1883-50cd-4180-fd46-b735e6482f4e"
      },
      "source": [
        "# 드롭아웃 적용하기\n",
        "\n",
        "# 1. 필요한 패키지 가져오는 코드 \n",
        "\n",
        "import tensorflow as tf   # 텐써 플로우 2.0 \n",
        "from tensorflow.keras.datasets.mnist import load_data  # 텐써플로우에 내장되어있는 \n",
        "                                                                         # mnist 데이터를 가져온다.\n",
        "from tensorflow.keras.models import Sequential  # 모델을 구성하기 위한 모듈\n",
        "from tensorflow.keras.layers import Dense, BatchNormalization, Dropout, Conv2D, MaxPooling2D ,Flatten# 완전 연결계층을 구성하기 위한 모듈\n",
        "from tensorflow.keras.utils import to_categorical # one encoding 하는 모듈\n",
        "import numpy as  np\n",
        "\n",
        "tf.random.set_seed(777)\n",
        "\n",
        "\n",
        "# 4. 모델을 구성합니다. 3층 신경망으로 구성\n",
        "model = Sequential()\n",
        "model.add( Conv2D(100, kernel_size=(5,5),input_shape=(32,32,3), activation='relu', padding='same') )\n",
        "model.add(BatchNormalization())\n",
        "model.add( MaxPooling2D(pool_size=(2, 2), padding='same') )\n",
        "model.add( Conv2D(100, kernel_size=(5,5), activation='relu', padding='same') )\n",
        "model.add(BatchNormalization())\n",
        "model.add( MaxPooling2D(pool_size=(2, 2), padding='same') )\n",
        "model.add( Conv2D(100, kernel_size=(5,5), activation='relu', padding='same') )\n",
        "model.add(BatchNormalization())\n",
        "model.add( MaxPooling2D(pool_size=(2, 2), padding='same') )\n",
        "model.add( Flatten() )\n",
        "model.add(Dense(100, activation = 'relu', input_shape = (32*32, )))  # 1층\n",
        "model.add(BatchNormalization())\n",
        "model.add(Dropout(0.5))\n",
        "model.add(Dense(100, activation = 'relu') ) # 2층 은닉층 \n",
        "model.add(BatchNormalization())\n",
        "model.add(Dropout(0.5))\n",
        "model.add(Dense(2, activation = 'softmax'))  # 3층 출력층 \n",
        "\n",
        "# 5. 모델을 설정합니다. ( 경사하강법, 오차함수를 정의해줍니다. )\n",
        "model.compile(optimizer='Adam', \n",
        "                     loss = 'binary_crossentropy', \n",
        "                     metrics=['acc'])  # 학습과정에서 정확도를 보려고 \n",
        "\n",
        "#6. 모델을 훈련시킵니다. \n",
        "from tensorflow.keras.callbacks import EarlyStopping\n",
        "\n",
        "# 콜백을 정의합니다.\n",
        "callbacks = [EarlyStopping(monitor = 'val_acc', patience = 40, verbose = 1)]\n",
        "\n",
        "# callbacks 인자를 통해 정의한 콜백을 전달합니다.\n",
        "history= model.fit(x_train, y_train,\n",
        "         batch_size = 100,\n",
        "         validation_data = (x_test, y_test),\n",
        "         epochs = 200, \n",
        "         callbacks = callbacks)\n",
        "\n",
        "# 7.모델을 평가합니다. (오차, 정확도가 출력됩니다.)\n",
        "model.evaluate(x_test, y_test)\n",
        "\n",
        "train_acc_list=history.history['acc']\n",
        "train_acc_list\n",
        "\n",
        "test_acc_list=history.history['val_acc']\n",
        "test_acc_list\n",
        "\n",
        "import  matplotlib.pyplot  as  plt\n",
        "\n",
        "x = np.arange( len(train_acc_list) )\n",
        "plt.plot( x, train_acc_list, label='train acc')\n",
        "plt.plot( x, test_acc_list, label='test acc',  linestyle='--')\n",
        "plt.ylim(0, 1)\n",
        "plt.legend(loc='lower right')\n",
        "plt.xlabel('epochs')\n",
        "plt.ylabel('accuracy')\n",
        "plt.show()\n",
        "\n",
        "model.save('/content/drive/MyDrive/fruit/fruit_model2.h5')"
      ],
      "execution_count": null,
      "outputs": [
        {
          "output_type": "stream",
          "name": "stdout",
          "text": [
            "Train on 1200 samples, validate on 100 samples\n",
            "Epoch 1/200\n",
            "1100/1200 [==========================>...] - ETA: 0s - loss: 0.9816 - acc: 0.5118"
          ]
        },
        {
          "output_type": "stream",
          "name": "stderr",
          "text": [
            "/usr/local/lib/python3.7/dist-packages/keras/engine/training.py:2470: UserWarning: `Model.state_updates` will be removed in a future version. This property should not be used in TensorFlow 2.0, as `updates` are applied automatically.\n",
            "  warnings.warn('`Model.state_updates` will be removed in a future version. '\n"
          ]
        },
        {
          "output_type": "stream",
          "name": "stdout",
          "text": [
            "1200/1200 [==============================] - 1s 1ms/sample - loss: 0.9748 - acc: 0.5117 - val_loss: 0.6970 - val_acc: 0.5000\n",
            "Epoch 2/200\n",
            "1200/1200 [==============================] - 0s 406us/sample - loss: 0.8474 - acc: 0.5783 - val_loss: 0.6860 - val_acc: 0.5000\n",
            "Epoch 3/200\n",
            "1200/1200 [==============================] - 0s 397us/sample - loss: 0.8207 - acc: 0.6050 - val_loss: 0.6931 - val_acc: 0.5600\n",
            "Epoch 4/200\n",
            "1200/1200 [==============================] - 0s 387us/sample - loss: 0.7940 - acc: 0.5983 - val_loss: 0.7258 - val_acc: 0.5000\n",
            "Epoch 5/200\n",
            "1200/1200 [==============================] - 0s 401us/sample - loss: 0.7522 - acc: 0.6417 - val_loss: 0.8079 - val_acc: 0.5000\n",
            "Epoch 6/200\n",
            "1200/1200 [==============================] - 0s 391us/sample - loss: 0.7015 - acc: 0.6725 - val_loss: 0.8937 - val_acc: 0.5000\n",
            "Epoch 7/200\n",
            "1200/1200 [==============================] - 0s 392us/sample - loss: 0.7138 - acc: 0.6508 - val_loss: 1.0655 - val_acc: 0.5000\n",
            "Epoch 8/200\n",
            "1200/1200 [==============================] - 0s 395us/sample - loss: 0.6746 - acc: 0.6792 - val_loss: 1.2601 - val_acc: 0.5000\n",
            "Epoch 9/200\n",
            "1200/1200 [==============================] - 0s 395us/sample - loss: 0.6629 - acc: 0.6817 - val_loss: 1.5516 - val_acc: 0.5000\n",
            "Epoch 10/200\n",
            "1200/1200 [==============================] - 0s 391us/sample - loss: 0.6201 - acc: 0.7125 - val_loss: 1.6317 - val_acc: 0.5000\n",
            "Epoch 11/200\n",
            "1200/1200 [==============================] - 0s 395us/sample - loss: 0.5953 - acc: 0.7275 - val_loss: 1.8116 - val_acc: 0.5000\n",
            "Epoch 12/200\n",
            "1200/1200 [==============================] - 0s 393us/sample - loss: 0.5673 - acc: 0.7242 - val_loss: 1.9970 - val_acc: 0.5000\n",
            "Epoch 13/200\n",
            "1200/1200 [==============================] - 0s 396us/sample - loss: 0.5281 - acc: 0.7600 - val_loss: 1.9065 - val_acc: 0.5000\n",
            "Epoch 14/200\n",
            "1200/1200 [==============================] - 0s 390us/sample - loss: 0.5216 - acc: 0.7650 - val_loss: 1.6270 - val_acc: 0.5000\n",
            "Epoch 15/200\n",
            "1200/1200 [==============================] - 0s 398us/sample - loss: 0.4502 - acc: 0.8042 - val_loss: 1.4716 - val_acc: 0.5000\n",
            "Epoch 16/200\n",
            "1200/1200 [==============================] - 0s 391us/sample - loss: 0.4159 - acc: 0.8292 - val_loss: 1.1556 - val_acc: 0.5000\n",
            "Epoch 17/200\n",
            "1200/1200 [==============================] - 0s 389us/sample - loss: 0.4152 - acc: 0.8108 - val_loss: 0.7716 - val_acc: 0.5900\n",
            "Epoch 18/200\n",
            "1200/1200 [==============================] - 0s 399us/sample - loss: 0.3524 - acc: 0.8558 - val_loss: 0.7549 - val_acc: 0.5900\n",
            "Epoch 19/200\n",
            "1200/1200 [==============================] - 0s 397us/sample - loss: 0.3551 - acc: 0.8583 - val_loss: 0.7775 - val_acc: 0.6700\n",
            "Epoch 20/200\n",
            "1200/1200 [==============================] - 0s 396us/sample - loss: 0.3501 - acc: 0.8608 - val_loss: 0.8175 - val_acc: 0.5400\n",
            "Epoch 21/200\n",
            "1200/1200 [==============================] - 0s 389us/sample - loss: 0.2776 - acc: 0.8892 - val_loss: 0.6339 - val_acc: 0.6800\n",
            "Epoch 22/200\n",
            "1200/1200 [==============================] - 0s 390us/sample - loss: 0.2860 - acc: 0.8833 - val_loss: 1.6667 - val_acc: 0.4900\n",
            "Epoch 23/200\n",
            "1200/1200 [==============================] - 0s 393us/sample - loss: 0.2391 - acc: 0.9100 - val_loss: 1.0557 - val_acc: 0.4800\n",
            "Epoch 24/200\n",
            "1200/1200 [==============================] - 0s 391us/sample - loss: 0.1759 - acc: 0.9408 - val_loss: 0.9967 - val_acc: 0.5200\n",
            "Epoch 25/200\n",
            "1200/1200 [==============================] - 0s 395us/sample - loss: 0.1586 - acc: 0.9492 - val_loss: 0.8648 - val_acc: 0.5500\n",
            "Epoch 26/200\n",
            "1200/1200 [==============================] - 0s 391us/sample - loss: 0.1351 - acc: 0.9558 - val_loss: 0.8312 - val_acc: 0.6200\n",
            "Epoch 27/200\n",
            "1200/1200 [==============================] - 0s 394us/sample - loss: 0.1160 - acc: 0.9608 - val_loss: 2.1411 - val_acc: 0.5100\n",
            "Epoch 28/200\n",
            "1200/1200 [==============================] - 0s 402us/sample - loss: 0.1166 - acc: 0.9633 - val_loss: 1.1942 - val_acc: 0.5100\n",
            "Epoch 29/200\n",
            "1200/1200 [==============================] - 0s 404us/sample - loss: 0.0669 - acc: 0.9850 - val_loss: 0.7627 - val_acc: 0.6900\n",
            "Epoch 30/200\n",
            "1200/1200 [==============================] - 0s 404us/sample - loss: 0.0557 - acc: 0.9883 - val_loss: 0.8799 - val_acc: 0.6300\n",
            "Epoch 31/200\n",
            "1200/1200 [==============================] - 0s 388us/sample - loss: 0.0408 - acc: 0.9908 - val_loss: 0.9785 - val_acc: 0.7100\n",
            "Epoch 32/200\n",
            "1200/1200 [==============================] - 0s 405us/sample - loss: 0.0310 - acc: 0.9967 - val_loss: 0.7590 - val_acc: 0.7400\n",
            "Epoch 33/200\n",
            "1200/1200 [==============================] - 0s 391us/sample - loss: 0.0279 - acc: 0.9958 - val_loss: 0.8960 - val_acc: 0.7300\n",
            "Epoch 34/200\n",
            "1200/1200 [==============================] - 0s 390us/sample - loss: 0.0307 - acc: 0.9933 - val_loss: 1.5453 - val_acc: 0.5700\n",
            "Epoch 35/200\n",
            "1200/1200 [==============================] - 0s 398us/sample - loss: 0.0359 - acc: 0.9925 - val_loss: 1.1656 - val_acc: 0.6000\n",
            "Epoch 36/200\n",
            "1200/1200 [==============================] - 0s 401us/sample - loss: 0.0264 - acc: 0.9967 - val_loss: 0.9793 - val_acc: 0.6900\n",
            "Epoch 37/200\n",
            "1200/1200 [==============================] - 0s 396us/sample - loss: 0.0225 - acc: 0.9983 - val_loss: 0.9177 - val_acc: 0.7200\n",
            "Epoch 38/200\n",
            "1200/1200 [==============================] - 0s 394us/sample - loss: 0.0163 - acc: 0.9967 - val_loss: 0.8172 - val_acc: 0.8200\n",
            "Epoch 39/200\n",
            "1200/1200 [==============================] - 0s 391us/sample - loss: 0.0162 - acc: 0.9983 - val_loss: 0.9447 - val_acc: 0.7500\n",
            "Epoch 40/200\n",
            "1200/1200 [==============================] - 0s 394us/sample - loss: 0.0124 - acc: 1.0000 - val_loss: 1.6513 - val_acc: 0.6300\n",
            "Epoch 41/200\n",
            "1200/1200 [==============================] - 0s 412us/sample - loss: 0.0079 - acc: 1.0000 - val_loss: 0.7725 - val_acc: 0.7700\n",
            "Epoch 42/200\n",
            "1200/1200 [==============================] - 0s 394us/sample - loss: 0.0082 - acc: 1.0000 - val_loss: 0.8048 - val_acc: 0.7900\n",
            "Epoch 43/200\n",
            "1200/1200 [==============================] - 0s 400us/sample - loss: 0.0057 - acc: 1.0000 - val_loss: 0.7737 - val_acc: 0.8200\n",
            "Epoch 44/200\n",
            "1200/1200 [==============================] - 0s 395us/sample - loss: 0.0046 - acc: 1.0000 - val_loss: 0.7773 - val_acc: 0.8200\n",
            "Epoch 45/200\n",
            "1200/1200 [==============================] - 0s 391us/sample - loss: 0.0048 - acc: 1.0000 - val_loss: 0.7441 - val_acc: 0.8200\n",
            "Epoch 46/200\n",
            "1200/1200 [==============================] - 0s 396us/sample - loss: 0.0042 - acc: 1.0000 - val_loss: 0.7764 - val_acc: 0.8100\n",
            "Epoch 47/200\n",
            "1200/1200 [==============================] - 0s 392us/sample - loss: 0.0035 - acc: 1.0000 - val_loss: 0.7048 - val_acc: 0.8200\n",
            "Epoch 48/200\n",
            "1200/1200 [==============================] - 0s 394us/sample - loss: 0.0044 - acc: 1.0000 - val_loss: 0.7146 - val_acc: 0.8200\n",
            "Epoch 49/200\n",
            "1200/1200 [==============================] - 0s 390us/sample - loss: 0.0048 - acc: 1.0000 - val_loss: 0.7465 - val_acc: 0.8200\n",
            "Epoch 50/200\n",
            "1200/1200 [==============================] - 0s 405us/sample - loss: 0.0049 - acc: 1.0000 - val_loss: 0.7474 - val_acc: 0.8300\n",
            "Epoch 51/200\n",
            "1200/1200 [==============================] - 0s 394us/sample - loss: 0.0047 - acc: 1.0000 - val_loss: 0.6394 - val_acc: 0.8300\n",
            "Epoch 52/200\n",
            "1200/1200 [==============================] - 0s 400us/sample - loss: 0.0039 - acc: 1.0000 - val_loss: 0.6859 - val_acc: 0.8100\n",
            "Epoch 53/200\n",
            "1200/1200 [==============================] - 0s 396us/sample - loss: 0.0032 - acc: 1.0000 - val_loss: 0.7333 - val_acc: 0.8100\n",
            "Epoch 54/200\n",
            "1200/1200 [==============================] - 0s 394us/sample - loss: 0.0030 - acc: 1.0000 - val_loss: 0.7229 - val_acc: 0.8100\n",
            "Epoch 55/200\n",
            "1200/1200 [==============================] - 0s 395us/sample - loss: 0.0030 - acc: 1.0000 - val_loss: 0.7129 - val_acc: 0.8100\n",
            "Epoch 56/200\n",
            "1200/1200 [==============================] - 0s 392us/sample - loss: 0.0032 - acc: 1.0000 - val_loss: 0.7016 - val_acc: 0.8100\n",
            "Epoch 57/200\n",
            "1200/1200 [==============================] - 0s 397us/sample - loss: 0.0018 - acc: 1.0000 - val_loss: 0.6803 - val_acc: 0.8000\n",
            "Epoch 58/200\n",
            "1200/1200 [==============================] - 0s 395us/sample - loss: 0.0022 - acc: 1.0000 - val_loss: 0.6877 - val_acc: 0.8100\n",
            "Epoch 59/200\n",
            "1200/1200 [==============================] - 0s 393us/sample - loss: 0.0021 - acc: 1.0000 - val_loss: 0.6809 - val_acc: 0.8100\n",
            "Epoch 60/200\n",
            "1200/1200 [==============================] - 0s 386us/sample - loss: 0.0021 - acc: 1.0000 - val_loss: 0.6797 - val_acc: 0.8100\n",
            "Epoch 61/200\n",
            "1200/1200 [==============================] - 0s 391us/sample - loss: 0.0026 - acc: 1.0000 - val_loss: 0.6806 - val_acc: 0.8000\n",
            "Epoch 62/200\n",
            "1200/1200 [==============================] - 0s 399us/sample - loss: 0.0021 - acc: 1.0000 - val_loss: 0.6838 - val_acc: 0.8000\n",
            "Epoch 63/200\n",
            "1200/1200 [==============================] - 0s 391us/sample - loss: 0.0018 - acc: 1.0000 - val_loss: 0.6816 - val_acc: 0.8000\n",
            "Epoch 64/200\n",
            "1200/1200 [==============================] - 0s 397us/sample - loss: 0.0024 - acc: 1.0000 - val_loss: 0.6874 - val_acc: 0.8200\n",
            "Epoch 65/200\n",
            "1200/1200 [==============================] - 0s 394us/sample - loss: 0.0020 - acc: 1.0000 - val_loss: 0.6959 - val_acc: 0.8200\n",
            "Epoch 66/200\n",
            "1200/1200 [==============================] - 0s 396us/sample - loss: 0.0021 - acc: 1.0000 - val_loss: 0.7212 - val_acc: 0.8100\n",
            "Epoch 67/200\n",
            "1200/1200 [==============================] - 0s 394us/sample - loss: 0.0018 - acc: 1.0000 - val_loss: 0.7290 - val_acc: 0.8200\n",
            "Epoch 68/200\n",
            "1200/1200 [==============================] - 0s 398us/sample - loss: 0.0021 - acc: 1.0000 - val_loss: 0.7426 - val_acc: 0.8200\n",
            "Epoch 69/200\n",
            "1200/1200 [==============================] - 0s 394us/sample - loss: 0.0030 - acc: 1.0000 - val_loss: 0.9007 - val_acc: 0.7700\n",
            "Epoch 70/200\n",
            "1200/1200 [==============================] - 0s 397us/sample - loss: 0.0043 - acc: 0.9992 - val_loss: 1.0776 - val_acc: 0.7000\n",
            "Epoch 71/200\n",
            "1200/1200 [==============================] - 0s 395us/sample - loss: 0.0207 - acc: 0.9942 - val_loss: 1.1935 - val_acc: 0.7000\n",
            "Epoch 72/200\n",
            "1200/1200 [==============================] - 0s 398us/sample - loss: 0.0669 - acc: 0.9800 - val_loss: 2.4008 - val_acc: 0.5600\n",
            "Epoch 73/200\n",
            "1200/1200 [==============================] - 0s 391us/sample - loss: 0.2087 - acc: 0.9225 - val_loss: 1.5261 - val_acc: 0.6300\n",
            "Epoch 74/200\n",
            "1200/1200 [==============================] - 0s 397us/sample - loss: 0.2582 - acc: 0.9033 - val_loss: 2.4086 - val_acc: 0.5200\n",
            "Epoch 75/200\n",
            "1200/1200 [==============================] - 0s 393us/sample - loss: 0.3016 - acc: 0.8908 - val_loss: 11.1038 - val_acc: 0.5000\n",
            "Epoch 76/200\n",
            "1200/1200 [==============================] - 0s 397us/sample - loss: 0.1876 - acc: 0.9242 - val_loss: 1.0041 - val_acc: 0.6300\n",
            "Epoch 77/200\n",
            "1200/1200 [==============================] - 0s 395us/sample - loss: 0.1200 - acc: 0.9500 - val_loss: 0.7537 - val_acc: 0.7000\n",
            "Epoch 78/200\n",
            "1200/1200 [==============================] - 0s 393us/sample - loss: 0.0787 - acc: 0.9775 - val_loss: 1.1545 - val_acc: 0.6300\n",
            "Epoch 79/200\n",
            "1200/1200 [==============================] - 0s 402us/sample - loss: 0.0486 - acc: 0.9883 - val_loss: 1.0391 - val_acc: 0.7100\n",
            "Epoch 80/200\n",
            "1200/1200 [==============================] - 0s 397us/sample - loss: 0.0331 - acc: 0.9933 - val_loss: 0.7987 - val_acc: 0.7700\n",
            "Epoch 81/200\n",
            "1200/1200 [==============================] - 0s 402us/sample - loss: 0.0328 - acc: 0.9933 - val_loss: 0.8088 - val_acc: 0.7900\n",
            "Epoch 82/200\n",
            "1200/1200 [==============================] - 0s 393us/sample - loss: 0.0194 - acc: 0.9967 - val_loss: 0.9402 - val_acc: 0.7500\n",
            "Epoch 83/200\n",
            "1200/1200 [==============================] - 0s 396us/sample - loss: 0.0218 - acc: 0.9942 - val_loss: 0.7030 - val_acc: 0.8100\n",
            "Epoch 84/200\n",
            "1200/1200 [==============================] - 0s 393us/sample - loss: 0.0109 - acc: 0.9992 - val_loss: 0.6614 - val_acc: 0.8000\n",
            "Epoch 85/200\n",
            "1200/1200 [==============================] - 0s 402us/sample - loss: 0.0146 - acc: 0.9958 - val_loss: 1.4226 - val_acc: 0.6800\n",
            "Epoch 86/200\n",
            "1200/1200 [==============================] - 0s 405us/sample - loss: 0.0116 - acc: 0.9992 - val_loss: 0.8528 - val_acc: 0.8000\n",
            "Epoch 87/200\n",
            "1200/1200 [==============================] - 0s 402us/sample - loss: 0.0054 - acc: 1.0000 - val_loss: 0.7816 - val_acc: 0.8100\n",
            "Epoch 88/200\n",
            "1200/1200 [==============================] - 0s 392us/sample - loss: 0.0055 - acc: 1.0000 - val_loss: 0.7896 - val_acc: 0.8100\n",
            "Epoch 89/200\n",
            "1200/1200 [==============================] - 0s 396us/sample - loss: 0.0045 - acc: 1.0000 - val_loss: 0.8024 - val_acc: 0.8000\n",
            "Epoch 90/200\n",
            "1200/1200 [==============================] - 0s 398us/sample - loss: 0.0035 - acc: 1.0000 - val_loss: 0.7898 - val_acc: 0.8100\n",
            "Epoch 00090: early stopping\n"
          ]
        },
        {
          "output_type": "display_data",
          "data": {
            "image/png": "[encoded data removed]",
            "text/plain": [
              "<Figure size 432x288 with 1 Axes>"
            ]
          },
          "metadata": {
            "needs_background": "light"
          }
        }
      ]
    },
    {
      "cell_type": "code",
      "metadata": {
        "colab": {
          "base_uri": "https://localhost:8080/"
        },
        "id": "86vbKuMTPxzz",
        "outputId": "83ae61bb-bd35-49fc-8b06-debbb8d0866c"
      },
      "source": [
        "# 모델을 불러와서 새로운 모델로 구성하고 이파리 이미지 한장 예측하기\n",
        "\n",
        "# 1. 모델을 불러옵니다.\n",
        "from tensorflow.keras.models import load_model\n",
        "\n",
        "new_model = load_model('/content/drive/MyDrive/fruit/fruit_model2.h5')\n",
        "\n",
        "# 2.모델을 평가합니다. (오차, 정확도가 출력됩니다.)\n",
        "\n",
        "new_model.evaluate(x_test, y_test)"
      ],
      "execution_count": null,
      "outputs": [
        {
          "output_type": "stream",
          "name": "stdout",
          "text": [
            "WARNING:tensorflow:From /usr/local/lib/python3.7/dist-packages/tensorflow/python/ops/init_ops.py:97: calling GlorotUniform.__init__ (from tensorflow.python.ops.init_ops) with dtype is deprecated and will be removed in a future version.\n",
            "Instructions for updating:\n",
            "Call initializer instance with the dtype argument instead of passing it to the constructor\n",
            "WARNING:tensorflow:From /usr/local/lib/python3.7/dist-packages/tensorflow/python/ops/init_ops.py:97: calling Zeros.__init__ (from tensorflow.python.ops.init_ops) with dtype is deprecated and will be removed in a future version.\n",
            "Instructions for updating:\n",
            "Call initializer instance with the dtype argument instead of passing it to the constructor\n",
            "WARNING:tensorflow:From /usr/local/lib/python3.7/dist-packages/tensorflow/python/ops/init_ops.py:97: calling Ones.__init__ (from tensorflow.python.ops.init_ops) with dtype is deprecated and will be removed in a future version.\n",
            "Instructions for updating:\n",
            "Call initializer instance with the dtype argument instead of passing it to the constructor\n"
          ]
        },
        {
          "output_type": "stream",
          "name": "stderr",
          "text": [
            "/usr/local/lib/python3.7/dist-packages/keras/engine/training.py:2470: UserWarning: `Model.state_updates` will be removed in a future version. This property should not be used in TensorFlow 2.0, as `updates` are applied automatically.\n",
            "  warnings.warn('`Model.state_updates` will be removed in a future version. '\n"
          ]
        },
        {
          "output_type": "execute_result",
          "data": {
            "text/plain": [
              "[0.7898420715332031, 0.81]"
            ]
          },
          "metadata": {},
          "execution_count": 70
        }
      ]
    },
    {
      "cell_type": "code",
      "metadata": {
        "colab": {
          "base_uri": "https://localhost:8080/"
        },
        "id": "bxNnLTYaRzk-",
        "outputId": "35dc936d-fbfd-412a-ae49-defde44facdc"
      },
      "source": [
        "import tensorflow as  tf\n",
        "import cv2\n",
        "\n",
        "img_path = '/content/drive/MyDrive/fruit/img/13.jpg'\n",
        "\n",
        "#ff = np.fromfile(img_path, np.uint8)# 사진을 숫자행렬로 변경합니다. \n",
        "#img = cv2.imdecode(ff, cv2.IMREAD_UNCHANGED)  # (165, 201, 3)   \n",
        "img = cv2.imread(img_path)\n",
        "img = cv2.bitwise_not(img)\n",
        "print(img.shape)\n",
        "\n",
        "import tensorflow.compat.v1 as tf\n",
        "tf.disable_v2_behavior()\n",
        "\n",
        "resized_images=tf.image.resize_images(img, (32, 32))\n",
        "print(resized_images.shape)"
      ],
      "execution_count": null,
      "outputs": [
        {
          "output_type": "stream",
          "name": "stdout",
          "text": [
            "(225, 225, 3)\n",
            "(32, 32, 3)\n"
          ]
        }
      ]
    },
    {
      "cell_type": "code",
      "metadata": {
        "colab": {
          "base_uri": "https://localhost:8080/"
        },
        "id": "R_7TfD7nRzoO",
        "outputId": "79f8c0a4-cccd-404b-b3c5-ea76fe2bb344"
      },
      "source": [
        "import numpy as np\n",
        "\n",
        "x2 =tf.reshape(resized_images, [-1,32,32,3])\n",
        "print(x2.shape)\n",
        "\n",
        "from tensorflow.keras.models import load_model\n",
        "\n",
        "new_model = load_model('/content/drive/MyDrive/fruit/fruit_model2.h5')\n",
        "\n",
        "results = new_model.predict(x2,steps=1)\n",
        "np.argmax(results)  # 1 이 레몬, 0 이 바나나"
      ],
      "execution_count": null,
      "outputs": [
        {
          "output_type": "stream",
          "name": "stdout",
          "text": [
            "(1, 32, 32, 3)\n"
          ]
        },
        {
          "output_type": "stream",
          "name": "stderr",
          "text": [
            "/usr/local/lib/python3.7/dist-packages/keras/engine/training.py:2470: UserWarning: `Model.state_updates` will be removed in a future version. This property should not be used in TensorFlow 2.0, as `updates` are applied automatically.\n",
            "  warnings.warn('`Model.state_updates` will be removed in a future version. '\n"
          ]
        },
        {
          "output_type": "execute_result",
          "data": {
            "text/plain": [
              "1"
            ]
          },
          "metadata": {},
          "execution_count": 83
        }
      ]
    },
    {
      "cell_type": "code",
      "metadata": {
        "colab": {
          "base_uri": "https://localhost:8080/"
        },
        "id": "347zsTrJUymu",
        "outputId": "2db4e29b-4bb8-40e1-bd11-75f9ebcd2e33"
      },
      "source": [
        "import tensorflow as  tf\n",
        "import cv2\n",
        "\n",
        "img_path = '/content/drive/MyDrive/fruit/img/503.jpg'\n",
        "\n",
        "img = cv2.imread(img_path)\n",
        "#img = cv2.bitwise_not(img)\n",
        "print(img.shape)\n",
        "\n",
        "import tensorflow.compat.v1 as tf\n",
        "tf.disable_v2_behavior()\n",
        "\n",
        "resized_images2=tf.image.resize_images(img, (32, 32))\n",
        "print(resized_images2.shape)"
      ],
      "execution_count": null,
      "outputs": [
        {
          "output_type": "stream",
          "name": "stdout",
          "text": [
            "(183, 275, 3)\n",
            "(32, 32, 3)\n"
          ]
        }
      ]
    },
    {
      "cell_type": "code",
      "metadata": {
        "colab": {
          "base_uri": "https://localhost:8080/"
        },
        "id": "2vPw6zD9Rzq0",
        "outputId": "a673290d-fa1d-4fad-a6e9-9c70478cdd41"
      },
      "source": [
        "import numpy as np\n",
        "\n",
        "x2 =tf.reshape(resized_images, [-1,32,32,3])\n",
        "print(x2.shape)\n",
        "\n",
        "from tensorflow.keras.models import load_model\n",
        "\n",
        "new_model = load_model('/content/drive/MyDrive/fruit/fruit_model2.h5')\n",
        "\n",
        "results = new_model.predict(x2,steps=1)\n",
        "np.argmax(results) # 1 이 파이애플, 0 이 사과"
      ],
      "execution_count": null,
      "outputs": [
        {
          "output_type": "stream",
          "name": "stdout",
          "text": [
            "(1, 32, 32, 3)\n"
          ]
        },
        {
          "output_type": "stream",
          "name": "stderr",
          "text": [
            "/usr/local/lib/python3.7/dist-packages/keras/engine/training.py:2470: UserWarning: `Model.state_updates` will be removed in a future version. This property should not be used in TensorFlow 2.0, as `updates` are applied automatically.\n",
            "  warnings.warn('`Model.state_updates` will be removed in a future version. '\n"
          ]
        },
        {
          "output_type": "execute_result",
          "data": {
            "text/plain": [
              "0"
            ]
          },
          "metadata": {},
          "execution_count": 81
        }
      ]
    },
    {
      "cell_type": "markdown",
      "metadata": {
        "id": "WA-naE7V6suz"
      },
      "source": [
        "# vgg 적용\n"
      ]
    },
    {
      "cell_type": "code",
      "metadata": {
        "colab": {
          "base_uri": "https://localhost:8080/"
        },
        "id": "UL9j3t8D7XLI",
        "outputId": "0276db0e-cb42-423b-cbd6-0f2818a1bb6d"
      },
      "source": [
        "from google.colab import drive\n",
        "drive.mount('/content/drive')"
      ],
      "execution_count": null,
      "outputs": [
        {
          "output_type": "stream",
          "name": "stdout",
          "text": [
            "Drive already mounted at /content/drive; to attempt to forcibly remount, call drive.mount(\"/content/drive\", force_remount=True).\n"
          ]
        }
      ]
    },
    {
      "cell_type": "code",
      "metadata": {
        "colab": {
          "base_uri": "https://localhost:8080/"
        },
        "id": "Zha6ImfL6sKp",
        "outputId": "c93a431b-460d-4e49-c720-c560a8af8f0d"
      },
      "source": [
        "# 1. 의자와 테이블 데이터를 불러옵니다.\n",
        "\n",
        "# 이미지 데이터와 라벨위치 \n",
        "train_image = '/content/drive/MyDrive/fruit/train_resize/'\n",
        "test_image = '/content/drive/MyDrive/fruit/test_resize/'\n",
        "train_label = '/content/drive/MyDrive/fruit/train_label.csv'\n",
        "test_label = '/content/drive/MyDrive/fruit/test_label.csv'\n",
        "\n",
        "# 데이터 로드 \n",
        "x_train = image_load(train_image)\n",
        "y_train = label_load(train_label)\n",
        "x_test = image_load(test_image)\n",
        "y_test = label_load(test_label)     \n",
        "\n",
        "print(x_train.shape)\n",
        "print(x_test.shape)\n",
        "print(y_train.shape)\n",
        "print(y_test.shape)"
      ],
      "execution_count": null,
      "outputs": [
        {
          "output_type": "stream",
          "name": "stdout",
          "text": [
            "(1200, 32, 32, 3)\n",
            "(100, 32, 32, 3)\n",
            "(1200,)\n",
            "(100,)\n"
          ]
        }
      ]
    },
    {
      "cell_type": "code",
      "metadata": {
        "id": "RjhEEjCG6sOg",
        "colab": {
          "base_uri": "https://localhost:8080/"
        },
        "outputId": "ae22a2eb-4559-42ea-f22c-d270d5a8a183"
      },
      "source": [
        "#vgg 추가\n",
        "from tensorflow.keras.applications import VGG16\n",
        "\n",
        "vgg16 = VGG16(weights = 'imagenet', input_shape = (32, 32, 3), include_top = False)\n",
        "vgg16.summary()"
      ],
      "execution_count": null,
      "outputs": [
        {
          "output_type": "stream",
          "name": "stdout",
          "text": [
            "Model: \"vgg16\"\n",
            "_________________________________________________________________\n",
            "Layer (type)                 Output Shape              Param #   \n",
            "=================================================================\n",
            "input_2 (InputLayer)         [(None, 32, 32, 3)]       0         \n",
            "_________________________________________________________________\n",
            "block1_conv1 (Conv2D)        (None, 32, 32, 64)        1792      \n",
            "_________________________________________________________________\n",
            "block1_conv2 (Conv2D)        (None, 32, 32, 64)        36928     \n",
            "_________________________________________________________________\n",
            "block1_pool (MaxPooling2D)   (None, 16, 16, 64)        0         \n",
            "_________________________________________________________________\n",
            "block2_conv1 (Conv2D)        (None, 16, 16, 128)       73856     \n",
            "_________________________________________________________________\n",
            "block2_conv2 (Conv2D)        (None, 16, 16, 128)       147584    \n",
            "_________________________________________________________________\n",
            "block2_pool (MaxPooling2D)   (None, 8, 8, 128)         0         \n",
            "_________________________________________________________________\n",
            "block3_conv1 (Conv2D)        (None, 8, 8, 256)         295168    \n",
            "_________________________________________________________________\n",
            "block3_conv2 (Conv2D)        (None, 8, 8, 256)         590080    \n",
            "_________________________________________________________________\n",
            "block3_conv3 (Conv2D)        (None, 8, 8, 256)         590080    \n",
            "_________________________________________________________________\n",
            "block3_pool (MaxPooling2D)   (None, 4, 4, 256)         0         \n",
            "_________________________________________________________________\n",
            "block4_conv1 (Conv2D)        (None, 4, 4, 512)         1180160   \n",
            "_________________________________________________________________\n",
            "block4_conv2 (Conv2D)        (None, 4, 4, 512)         2359808   \n",
            "_________________________________________________________________\n",
            "block4_conv3 (Conv2D)        (None, 4, 4, 512)         2359808   \n",
            "_________________________________________________________________\n",
            "block4_pool (MaxPooling2D)   (None, 2, 2, 512)         0         \n",
            "_________________________________________________________________\n",
            "block5_conv1 (Conv2D)        (None, 2, 2, 512)         2359808   \n",
            "_________________________________________________________________\n",
            "block5_conv2 (Conv2D)        (None, 2, 2, 512)         2359808   \n",
            "_________________________________________________________________\n",
            "block5_conv3 (Conv2D)        (None, 2, 2, 512)         2359808   \n",
            "_________________________________________________________________\n",
            "block5_pool (MaxPooling2D)   (None, 1, 1, 512)         0         \n",
            "=================================================================\n",
            "Total params: 14,714,688\n",
            "Trainable params: 14,714,688\n",
            "Non-trainable params: 0\n",
            "_________________________________________________________________\n"
          ]
        }
      ]
    },
    {
      "cell_type": "code",
      "metadata": {
        "id": "9shLiI6O7GDI",
        "colab": {
          "base_uri": "https://localhost:8080/"
        },
        "outputId": "5ccfd977-3bf1-41bc-81fe-1aa788708363"
      },
      "source": [
        "# 드롭아웃 적용하기\n",
        "\n",
        "# 1. 필요한 패키지 가져오는 코드 \n",
        "\n",
        "import tensorflow as tf   # 텐써 플로우 2.0 \n",
        "from tensorflow.keras.datasets.mnist import load_data  # 텐써플로우에 내장되어있는 \n",
        "                                                                         # mnist 데이터를 가져온다.\n",
        "from tensorflow.keras.models import Sequential  # 모델을 구성하기 위한 모듈\n",
        "from tensorflow.keras.layers import Dense, BatchNormalization, Dropout, Conv2D, MaxPooling2D ,Flatten# 완전 연결계층을 구성하기 위한 모듈\n",
        "from tensorflow.keras.utils import to_categorical # one encoding 하는 모듈\n",
        "from tensorflow.keras.optimizers import Adam\n",
        "\n",
        "tf.random.set_seed(777)\n",
        "\n",
        "    \n",
        "# 2. 정규화 진행  \n",
        "x_train = x_train.reshape(-1, 32, 32, 3) / 255  # 4차원으로 변경합니다. \n",
        "x_test = x_test.reshape(-1, 32,32, 3) / 255\n",
        "\n",
        "# 3. 정답 데이터를 준비한다. \n",
        "# 하나의 숫자를 one hot encoding 한다. (예:  4 ---> 0 0 0 0 1 0 0 0 0 0 ) \n",
        "y_train = to_categorical(y_train)  # 훈련 데이터의 라벨(정답)을 원핫 인코딩\n",
        "y_test = to_categorical(y_test)    # 테스트 데이터의 라벨(정답)을 원핫 인코딩 \n",
        "\n",
        "print(x_train.shape)\n",
        "print(x_test.shape)\n",
        "print(y_train.shape)\n",
        "print(y_test.shape)\n"
      ],
      "execution_count": null,
      "outputs": [
        {
          "output_type": "stream",
          "name": "stdout",
          "text": [
            "(1200, 32, 32, 3)\n",
            "(100, 32, 32, 3)\n",
            "(1200, 2)\n",
            "(100, 2)\n"
          ]
        }
      ]
    },
    {
      "cell_type": "code",
      "metadata": {
        "id": "V4lNyt5K7F-j",
        "colab": {
          "base_uri": "https://localhost:8080/",
          "height": 1000
        },
        "outputId": "7933d953-adcd-46df-ddea-b4514e0f0701"
      },
      "source": [
        "# 드롭아웃 적용하기\n",
        "\n",
        "# 1. 필요한 패키지 가져오는 코드 \n",
        "\n",
        "import tensorflow as tf   # 텐써 플로우 2.0 \n",
        "from tensorflow.keras.datasets.mnist import load_data  # 텐써플로우에 내장되어있는 \n",
        "                                                                         # mnist 데이터를 가져온다.\n",
        "from tensorflow.keras.models import Sequential  # 모델을 구성하기 위한 모듈\n",
        "from tensorflow.keras.layers import Dense, BatchNormalization, Dropout, Conv2D, MaxPooling2D ,Flatten# 완전 연결계층을 구성하기 위한 모듈\n",
        "from tensorflow.keras.utils import to_categorical # one encoding 하는 모듈\n",
        "import numpy as  np\n",
        "\n",
        "tf.random.set_seed(777)\n",
        "\n",
        "\n",
        "# 4. 모델을 구성합니다. 3층 신경망으로 구성\n",
        "model = Sequential()\n",
        "\n",
        "model.add(vgg16)\n",
        "\n",
        "model.add( Flatten() )\n",
        "model.add(Dense(100, activation = 'relu', input_shape = (32*32, )))  # 1층\n",
        "model.add(BatchNormalization())\n",
        "model.add(Dropout(0.5))\n",
        "model.add(Dense(100, activation = 'relu') ) # 2층 은닉층 \n",
        "model.add(BatchNormalization())\n",
        "model.add(Dropout(0.5))\n",
        "model.add(Dense(2, activation = 'softmax'))  # 3층 출력층 \n",
        "\n",
        "# 5. 모델을 설정합니다. ( 경사하강법, 오차함수를 정의해줍니다. )\n",
        "model.compile(optimizer=Adam(1e-4) , \n",
        "                     loss = 'binary_crossentropy', \n",
        "                     metrics=['acc'])  # 학습과정에서 정확도를 보려고 \n",
        "\n",
        "#6. 모델을 훈련시킵니다. \n",
        "from tensorflow.keras.callbacks import EarlyStopping\n",
        "\n",
        "# 콜백을 정의합니다.\n",
        "callbacks = [EarlyStopping(monitor = 'val_acc', patience = 40, verbose = 1)]\n",
        "\n",
        "# callbacks 인자를 통해 정의한 콜백을 전달합니다.\n",
        "history= model.fit(x_train, y_train,\n",
        "         batch_size = 100,\n",
        "         validation_data = (x_test, y_test),\n",
        "         epochs = 200, \n",
        "         callbacks = callbacks)\n",
        "\n",
        "# 7.모델을 평가합니다. (오차, 정확도가 출력됩니다.)\n",
        "model.evaluate(x_test, y_test)\n",
        "\n",
        "train_acc_list=history.history['acc']\n",
        "train_acc_list\n",
        "\n",
        "test_acc_list=history.history['val_acc']\n",
        "test_acc_list\n",
        "\n",
        "import  matplotlib.pyplot  as  plt\n",
        "\n",
        "x = np.arange( len(train_acc_list) )\n",
        "plt.plot( x, train_acc_list, label='train acc')\n",
        "plt.plot( x, test_acc_list, label='test acc',  linestyle='--')\n",
        "plt.ylim(0, 1)\n",
        "plt.legend(loc='lower right')\n",
        "plt.xlabel('epochs')\n",
        "plt.ylabel('accuracy')\n",
        "plt.show()\n",
        "\n",
        "model.save('/content/drive/MyDrive/fruit/fruit_model_vgg.h5')"
      ],
      "execution_count": null,
      "outputs": [
        {
          "output_type": "stream",
          "name": "stdout",
          "text": [
            "Epoch 1/200\n",
            "12/12 [==============================] - 13s 143ms/step - loss: 0.9391 - acc: 0.5700 - val_loss: 0.6378 - val_acc: 0.6700\n",
            "Epoch 2/200\n",
            "12/12 [==============================] - 1s 110ms/step - loss: 0.7390 - acc: 0.6700 - val_loss: 1.1016 - val_acc: 0.5000\n",
            "Epoch 3/200\n",
            "12/12 [==============================] - 1s 113ms/step - loss: 0.6148 - acc: 0.7525 - val_loss: 0.5177 - val_acc: 0.8500\n",
            "Epoch 4/200\n",
            "12/12 [==============================] - 1s 111ms/step - loss: 0.5259 - acc: 0.7942 - val_loss: 0.4718 - val_acc: 0.8100\n",
            "Epoch 5/200\n",
            "12/12 [==============================] - 1s 113ms/step - loss: 0.4652 - acc: 0.8142 - val_loss: 1.3946 - val_acc: 0.5100\n",
            "Epoch 6/200\n",
            "12/12 [==============================] - 1s 111ms/step - loss: 0.4057 - acc: 0.8517 - val_loss: 0.4083 - val_acc: 0.8000\n",
            "Epoch 7/200\n",
            "12/12 [==============================] - 1s 110ms/step - loss: 0.3986 - acc: 0.8517 - val_loss: 0.3152 - val_acc: 0.8700\n",
            "Epoch 8/200\n",
            "12/12 [==============================] - 1s 111ms/step - loss: 0.3310 - acc: 0.9033 - val_loss: 0.3343 - val_acc: 0.8600\n",
            "Epoch 9/200\n",
            "12/12 [==============================] - 1s 111ms/step - loss: 0.3044 - acc: 0.9025 - val_loss: 0.2856 - val_acc: 0.9200\n",
            "Epoch 10/200\n",
            "12/12 [==============================] - 1s 111ms/step - loss: 0.2468 - acc: 0.9383 - val_loss: 0.3331 - val_acc: 0.9100\n",
            "Epoch 11/200\n",
            "12/12 [==============================] - 1s 111ms/step - loss: 0.2181 - acc: 0.9425 - val_loss: 0.2854 - val_acc: 0.9200\n",
            "Epoch 12/200\n",
            "12/12 [==============================] - 1s 112ms/step - loss: 0.1756 - acc: 0.9608 - val_loss: 0.3529 - val_acc: 0.8500\n",
            "Epoch 13/200\n",
            "12/12 [==============================] - 1s 111ms/step - loss: 0.1544 - acc: 0.9658 - val_loss: 0.4055 - val_acc: 0.8400\n",
            "Epoch 14/200\n",
            "12/12 [==============================] - 1s 111ms/step - loss: 0.1355 - acc: 0.9717 - val_loss: 0.6987 - val_acc: 0.7400\n",
            "Epoch 15/200\n",
            "12/12 [==============================] - 1s 110ms/step - loss: 0.1340 - acc: 0.9775 - val_loss: 0.3602 - val_acc: 0.8800\n",
            "Epoch 16/200\n",
            "12/12 [==============================] - 1s 111ms/step - loss: 0.1068 - acc: 0.9817 - val_loss: 0.3205 - val_acc: 0.9200\n",
            "Epoch 17/200\n",
            "12/12 [==============================] - 1s 111ms/step - loss: 0.0782 - acc: 0.9925 - val_loss: 0.3014 - val_acc: 0.9200\n",
            "Epoch 18/200\n",
            "12/12 [==============================] - 1s 111ms/step - loss: 0.0507 - acc: 0.9983 - val_loss: 0.3998 - val_acc: 0.8800\n",
            "Epoch 19/200\n",
            "12/12 [==============================] - 1s 111ms/step - loss: 0.0505 - acc: 0.9992 - val_loss: 0.3147 - val_acc: 0.9200\n",
            "Epoch 20/200\n",
            "12/12 [==============================] - 1s 111ms/step - loss: 0.0425 - acc: 1.0000 - val_loss: 0.3257 - val_acc: 0.9300\n",
            "Epoch 21/200\n",
            "12/12 [==============================] - 1s 111ms/step - loss: 0.0395 - acc: 1.0000 - val_loss: 0.3056 - val_acc: 0.9400\n",
            "Epoch 22/200\n",
            "12/12 [==============================] - 1s 110ms/step - loss: 0.0386 - acc: 1.0000 - val_loss: 0.3900 - val_acc: 0.8900\n",
            "Epoch 23/200\n",
            "12/12 [==============================] - 1s 111ms/step - loss: 0.0346 - acc: 1.0000 - val_loss: 0.2945 - val_acc: 0.9300\n",
            "Epoch 24/200\n",
            "12/12 [==============================] - 1s 111ms/step - loss: 0.0563 - acc: 0.9908 - val_loss: 1.1131 - val_acc: 0.7500\n",
            "Epoch 25/200\n",
            "12/12 [==============================] - 1s 112ms/step - loss: 0.1473 - acc: 0.9700 - val_loss: 2.0016 - val_acc: 0.5400\n",
            "Epoch 26/200\n",
            "12/12 [==============================] - 1s 112ms/step - loss: 0.0958 - acc: 0.9817 - val_loss: 0.8410 - val_acc: 0.6500\n",
            "Epoch 27/200\n",
            "12/12 [==============================] - 1s 111ms/step - loss: 0.0757 - acc: 0.9892 - val_loss: 0.7737 - val_acc: 0.7400\n",
            "Epoch 28/200\n",
            "12/12 [==============================] - 1s 111ms/step - loss: 0.0459 - acc: 1.0000 - val_loss: 0.2875 - val_acc: 0.9100\n",
            "Epoch 29/200\n",
            "12/12 [==============================] - 1s 112ms/step - loss: 0.0380 - acc: 0.9992 - val_loss: 0.2366 - val_acc: 0.9200\n",
            "Epoch 30/200\n",
            "12/12 [==============================] - 1s 112ms/step - loss: 0.0333 - acc: 1.0000 - val_loss: 0.2608 - val_acc: 0.9300\n",
            "Epoch 31/200\n",
            "12/12 [==============================] - 1s 111ms/step - loss: 0.0322 - acc: 1.0000 - val_loss: 0.2948 - val_acc: 0.9100\n",
            "Epoch 32/200\n",
            "12/12 [==============================] - 1s 112ms/step - loss: 0.0244 - acc: 1.0000 - val_loss: 0.2724 - val_acc: 0.9300\n",
            "Epoch 33/200\n",
            "12/12 [==============================] - 1s 112ms/step - loss: 0.0235 - acc: 1.0000 - val_loss: 0.2661 - val_acc: 0.9300\n",
            "Epoch 34/200\n",
            "12/12 [==============================] - 1s 111ms/step - loss: 0.0228 - acc: 1.0000 - val_loss: 0.2926 - val_acc: 0.9200\n",
            "Epoch 35/200\n",
            "12/12 [==============================] - 1s 112ms/step - loss: 0.0229 - acc: 1.0000 - val_loss: 0.2740 - val_acc: 0.9300\n",
            "Epoch 36/200\n",
            "12/12 [==============================] - 1s 111ms/step - loss: 0.0196 - acc: 1.0000 - val_loss: 0.2814 - val_acc: 0.9300\n",
            "Epoch 37/200\n",
            "12/12 [==============================] - 1s 112ms/step - loss: 0.0196 - acc: 1.0000 - val_loss: 0.2894 - val_acc: 0.9300\n",
            "Epoch 38/200\n",
            "12/12 [==============================] - 1s 111ms/step - loss: 0.0205 - acc: 1.0000 - val_loss: 0.2876 - val_acc: 0.9300\n",
            "Epoch 39/200\n",
            "12/12 [==============================] - 1s 110ms/step - loss: 0.0160 - acc: 1.0000 - val_loss: 0.2937 - val_acc: 0.9300\n",
            "Epoch 40/200\n",
            "12/12 [==============================] - 1s 110ms/step - loss: 0.0161 - acc: 1.0000 - val_loss: 0.2800 - val_acc: 0.9300\n",
            "Epoch 41/200\n",
            "12/12 [==============================] - 1s 111ms/step - loss: 0.0177 - acc: 1.0000 - val_loss: 0.2845 - val_acc: 0.9300\n",
            "Epoch 42/200\n",
            "12/12 [==============================] - 1s 111ms/step - loss: 0.0160 - acc: 1.0000 - val_loss: 0.2932 - val_acc: 0.9300\n",
            "Epoch 43/200\n",
            "12/12 [==============================] - 1s 112ms/step - loss: 0.0154 - acc: 1.0000 - val_loss: 0.2906 - val_acc: 0.9300\n",
            "Epoch 44/200\n",
            "12/12 [==============================] - 1s 114ms/step - loss: 0.0132 - acc: 1.0000 - val_loss: 0.3121 - val_acc: 0.9300\n",
            "Epoch 45/200\n",
            "12/12 [==============================] - 1s 111ms/step - loss: 0.0134 - acc: 1.0000 - val_loss: 0.2997 - val_acc: 0.9400\n",
            "Epoch 46/200\n",
            "12/12 [==============================] - 1s 111ms/step - loss: 0.0151 - acc: 1.0000 - val_loss: 0.3162 - val_acc: 0.9300\n",
            "Epoch 47/200\n",
            "12/12 [==============================] - 1s 112ms/step - loss: 0.0128 - acc: 1.0000 - val_loss: 0.3188 - val_acc: 0.9300\n",
            "Epoch 48/200\n",
            "12/12 [==============================] - 1s 111ms/step - loss: 0.0122 - acc: 1.0000 - val_loss: 0.3012 - val_acc: 0.9400\n",
            "Epoch 49/200\n",
            "12/12 [==============================] - 1s 111ms/step - loss: 0.0124 - acc: 1.0000 - val_loss: 0.3122 - val_acc: 0.9300\n",
            "Epoch 50/200\n",
            "12/12 [==============================] - 1s 112ms/step - loss: 0.0115 - acc: 1.0000 - val_loss: 0.3174 - val_acc: 0.9300\n",
            "Epoch 51/200\n",
            "12/12 [==============================] - 1s 110ms/step - loss: 0.0115 - acc: 1.0000 - val_loss: 0.3255 - val_acc: 0.9200\n",
            "Epoch 52/200\n",
            "12/12 [==============================] - 1s 112ms/step - loss: 0.0116 - acc: 1.0000 - val_loss: 0.3297 - val_acc: 0.9400\n",
            "Epoch 53/200\n",
            "12/12 [==============================] - 1s 112ms/step - loss: 0.0116 - acc: 1.0000 - val_loss: 0.3331 - val_acc: 0.9400\n",
            "Epoch 54/200\n",
            "12/12 [==============================] - 1s 112ms/step - loss: 0.0114 - acc: 1.0000 - val_loss: 0.3363 - val_acc: 0.9300\n",
            "Epoch 55/200\n",
            "12/12 [==============================] - 1s 110ms/step - loss: 0.0096 - acc: 1.0000 - val_loss: 0.3592 - val_acc: 0.9300\n",
            "Epoch 56/200\n",
            "12/12 [==============================] - 1s 112ms/step - loss: 0.0088 - acc: 1.0000 - val_loss: 0.3346 - val_acc: 0.9400\n",
            "Epoch 57/200\n",
            "12/12 [==============================] - 1s 111ms/step - loss: 0.0091 - acc: 1.0000 - val_loss: 0.3475 - val_acc: 0.9300\n",
            "Epoch 58/200\n",
            "12/12 [==============================] - 1s 111ms/step - loss: 0.0108 - acc: 1.0000 - val_loss: 0.3490 - val_acc: 0.9300\n",
            "Epoch 59/200\n",
            "12/12 [==============================] - 1s 111ms/step - loss: 0.0101 - acc: 1.0000 - val_loss: 0.3341 - val_acc: 0.9400\n",
            "Epoch 60/200\n",
            "12/12 [==============================] - 1s 110ms/step - loss: 0.0089 - acc: 1.0000 - val_loss: 0.3530 - val_acc: 0.9300\n",
            "Epoch 61/200\n",
            "12/12 [==============================] - 1s 110ms/step - loss: 0.0089 - acc: 1.0000 - val_loss: 0.3468 - val_acc: 0.9300\n",
            "Epoch 00061: early stopping\n",
            "4/4 [==============================] - 1s 115ms/step - loss: 0.3468 - acc: 0.9300\n"
          ]
        },
        {
          "output_type": "display_data",
          "data": {
            "image/png": "[encoded data removed]",
            "text/plain": [
              "<Figure size 432x288 with 1 Axes>"
            ]
          },
          "metadata": {
            "needs_background": "light"
          }
        }
      ]
    },
    {
      "cell_type": "code",
      "metadata": {
        "id": "-U2GOZAY7F7m"
      },
      "source": [
        ""
      ],
      "execution_count": null,
      "outputs": []
    },
    {
      "cell_type": "code",
      "metadata": {
        "id": "mAiLYp9o7F45"
      },
      "source": [
        ""
      ],
      "execution_count": null,
      "outputs": []
    },
    {
      "cell_type": "code",
      "metadata": {
        "id": "WWmtzNkr7F25"
      },
      "source": [
        ""
      ],
      "execution_count": null,
      "outputs": []
    },
    {
      "cell_type": "code",
      "metadata": {
        "id": "BQVe8Rha7FzC"
      },
      "source": [
        ""
      ],
      "execution_count": null,
      "outputs": []
    }
  ]
}